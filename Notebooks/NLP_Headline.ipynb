{
  "nbformat": 4,
  "nbformat_minor": 0,
  "metadata": {
    "colab": {
      "provenance": []
    },
    "kernelspec": {
      "name": "python3",
      "display_name": "Python 3"
    },
    "language_info": {
      "name": "python"
    }
  },
  "cells": [
    {
      "cell_type": "code",
      "execution_count": 1,
      "metadata": {
        "colab": {
          "base_uri": "https://localhost:8080/"
        },
        "id": "Go_eXkaQNMdV",
        "outputId": "52582562-de0a-4db6-fbee-47d7064c76a5"
      },
      "outputs": [
        {
          "output_type": "stream",
          "name": "stdout",
          "text": [
            "\r0% [Working]\r            \rIgn:1 https://developer.download.nvidia.com/compute/machine-learning/repos/ubuntu2004/x86_64  InRelease\n",
            "\r0% [Connecting to archive.ubuntu.com] [Connecting to security.ubuntu.com] [Wait\r                                                                               \rHit:2 https://cloud.r-project.org/bin/linux/ubuntu focal-cran40/ InRelease\n",
            "\r0% [Connecting to archive.ubuntu.com] [Connecting to security.ubuntu.com] [Wait\r                                                                               \rHit:3 https://developer.download.nvidia.com/compute/cuda/repos/ubuntu2004/x86_64  InRelease\n",
            "\r0% [Connecting to archive.ubuntu.com] [Connecting to security.ubuntu.com] [Conn\r                                                                               \rHit:4 https://developer.download.nvidia.com/compute/machine-learning/repos/ubuntu2004/x86_64  Release\n",
            "Hit:5 http://security.ubuntu.com/ubuntu focal-security InRelease\n",
            "Hit:6 http://ppa.launchpad.net/c2d4u.team/c2d4u4.0+/ubuntu focal InRelease\n",
            "Hit:7 http://archive.ubuntu.com/ubuntu focal InRelease\n",
            "Hit:8 http://archive.ubuntu.com/ubuntu focal-updates InRelease\n",
            "Hit:10 http://ppa.launchpad.net/cran/libgit2/ubuntu focal InRelease\n",
            "Hit:11 http://archive.ubuntu.com/ubuntu focal-backports InRelease\n",
            "Hit:12 http://ppa.launchpad.net/deadsnakes/ppa/ubuntu focal InRelease\n",
            "Hit:13 http://ppa.launchpad.net/graphics-drivers/ppa/ubuntu focal InRelease\n",
            "Hit:14 http://ppa.launchpad.net/ubuntugis/ppa/ubuntu focal InRelease\n",
            "Reading package lists... Done\n"
          ]
        }
      ],
      "source": [
        "import os\n",
        "# Find the latest version of spark 3.0  from http://www.apache.org/dist/spark/ and enter as the spark version\n",
        "# For example:\n",
        "spark_version = 'spark-3.2.3'\n",
        "# spark_version = 'spark-<enter version>'\n",
        "os.environ['SPARK_VERSION']=spark_version\n",
        "\n",
        "# Install Spark and Java\n",
        "!apt-get update\n",
        "!apt-get install openjdk-8-jdk-headless -qq > /dev/null\n",
        "!wget -q http://www.apache.org/dist/spark/$SPARK_VERSION/$SPARK_VERSION-bin-hadoop2.7.tgz\n",
        "!tar xf $SPARK_VERSION-bin-hadoop2.7.tgz\n",
        "!pip install -q findspark\n",
        "\n",
        "# Set Environment Variables\n",
        "os.environ[\"JAVA_HOME\"] = \"/usr/lib/jvm/java-8-openjdk-amd64\"\n",
        "os.environ[\"SPARK_HOME\"] = f\"/content/{spark_version}-bin-hadoop2.7\"\n",
        "\n",
        "# Start a SparkSession\n",
        "import findspark\n",
        "findspark.init()"
      ]
    },
    {
      "cell_type": "code",
      "source": [
        "from pyspark.sql import SparkSession\n",
        "spark = SparkSession.builder.appName(\"NLPHeadline\").getOrCreate()"
      ],
      "metadata": {
        "id": "X7eYep1pOCl3"
      },
      "execution_count": 2,
      "outputs": []
    },
    {
      "cell_type": "code",
      "source": [
        "from pyspark import SparkFiles\n",
        "# Load in data into a DataFrame\n",
        "\n",
        "url = \"/content/reviews_nlp_input.csv\" #enter correct address here\n",
        "spark.sparkContext.addFile(url)\n",
        "\n",
        "df = spark.read \\\n",
        "    .option(\"delimiter\", \"|\") \\\n",
        "    .option(\"multiline\", \"true\") \\\n",
        "    .option(\"quote\", \"\\\"\") \\\n",
        "    .option(\"escape\", \"\\\"\") \\\n",
        "    .option(\"header\", \"true\") \\\n",
        "    .csv(url)\n",
        "\n",
        "# Show DataFrame\n",
        "df.show()"
      ],
      "metadata": {
        "colab": {
          "base_uri": "https://localhost:8080/"
        },
        "id": "CjtTU5AXUD_X",
        "outputId": "7294d585-eeb4-4974-a658-fb2eb236501f"
      },
      "execution_count": 3,
      "outputs": [
        {
          "output_type": "stream",
          "name": "stdout",
          "text": [
            "+---+--------------------+-----------+--------------------+--------------------+--------------------+--------------+-----------------+--------------+-------------------+----------+-------------+-----------+---------+----------+-------+--------------------+--------------------+--------------------+\n",
            "|_c0|                firm|date_review|           job_title|             current|            location|overall_rating|work_life_balance|culture_values|diversity_inclusion|career_opp|comp_benefits|senior_mgmt|recommend|ceo_approv|outlook|            headline|                pros|                cons|\n",
            "+---+--------------------+-----------+--------------------+--------------------+--------------------+--------------+-----------------+--------------+-------------------+----------+-------------+-----------+---------+----------+-------+--------------------+--------------------+--------------------+\n",
            "|  0|AFH-Wealth-Manage...| 2020-10-01| Office Administr...|Former Employee, ...|Bromsgrove, Engla...|             2|              1.0|           3.0|                1.0|       1.0|          2.0|        2.0|        x|         o|      x|The people both m...|Great people in s...|Poor pay, huge ga...|\n",
            "|  1|AFH-Wealth-Manage...| 2021-02-05|     Quality Control|     Former Employee|Birmingham, Engla...|             1|              3.0|           1.0|                2.0|       1.0|          1.0|        1.0|        x|         o|      o|   Very low salaries|Majority of the p...|Salaries are much...|\n",
            "|  2|AFH-Wealth-Manage...| 2021-02-07|   IFA Administrator|Former Employee, ...|Bromsgrove, Engla...|             4|              3.0|           3.0|                4.0|       4.0|          4.0|        2.0|        v|         o|      v|                Good|Nice environment,...|Management can be...|\n",
            "|  3|AFH-Wealth-Manage...| 2021-02-07| Investment Opera...|Former Employee, ...|Birmingham, Engla...|             3|              5.0|           5.0|                4.0|       3.0|          1.0|        2.0|        x|         o|      v|          AFH Review|-Great People\\n-H...|-Low Salary\\n-Mid...|\n",
            "|  4|AFH-Wealth-Manage...| 2021-05-12| Client Engagemen...|Former Employee, ...|Birmingham, Engla...|             1|              1.0|           2.0|                1.0|       1.0|          1.0|        1.0|        x|         x|      x|Terrible- avoid l...|None, they lie ab...|-Unachievable bon...|\n",
            "|  5|AFH-Wealth-Manage...| 2021-05-13| Administrative A...|Former Employee, ...|Worcester, Englan...|             1|              1.0|           1.0|                1.0|       1.0|          1.0|        1.0|        x|         o|      r|         Steer clear|There are none to...|Borderline bullyi...|\n",
            "|  6|AFH-Wealth-Manage...| 2021-05-13| Mortgage and Pro...|Former Employee, ...|Taunton, England,...|             5|              5.0|           5.0|                5.0|       5.0|          4.0|        5.0|        o|         o|      o|    Mortgage Advisor|Good company to w...|Communication bet...|\n",
            "|  7|             AJ-Bell| 2020-10-14|     Admininistrator|Former Employee, ...|Manchester, Engla...|             3|              3.0|           3.0|                3.0|       4.0|          3.0|        3.0|        v|         v|      v|         Nice office|good company to w...|started to become...|\n",
            "|  8|             AJ-Bell| 2020-11-25|   YouInvest Advisor|Former Employee, ...|Salford, North We...|             3|              4.0|           1.0|                1.0|       1.0|          5.0|        3.0|        x|         v|      v|Good job, awful p...|AJ Bell is an exc...|It’s like a schoo...|\n",
            "|  9|             AJ-Bell| 2020-12-04|         Team Leader|Former Employee, ...|Manchester, Engla...|             1|              3.0|           1.0|                1.0|       2.0|          2.0|        1.0|        x|         r|      r|Shiny Office Cann...|If you're happy t...|First the minor p...|\n",
            "| 10|             AJ-Bell| 2020-12-08| Administrative A...|     Former Employee|Manchester, Engla...|             1|              3.0|           3.0|                4.0|       1.0|          2.0|        1.0|        x|         r|      r|Low pay, progress...|Nice offices and ...|Awful cronyism in...|\n",
            "| 11|             AJ-Bell| 2020-12-11|    Business Analyst|Current Employee,...|Manchester, Engla...|             4|              5.0|           5.0|                5.0|       5.0|          3.0|        5.0|        v|         v|      v| Great place to work|Great people and ...|Pension contribut...|\n",
            "| 12|             AJ-Bell| 2020-12-21|             Analyst|Former Employee, ...|London, England, ...|             2|              3.0|           2.0|                1.0|       3.0|          2.0|        1.0|        x|         v|      o|               Run!!|Great momentum af...|Poor salary, no f...|\n",
            "| 13|             AJ-Bell| 2021-01-05|      Credit Control|    Current Employee|Manchester, Engla...|             4|              5.0|           5.0|                5.0|       4.0|          5.0|        4.0|        v|         v|      v|Looked after but ...|Great employee be...|Feel like one of ...|\n",
            "| 14|             AJ-Bell| 2021-01-09|    CS Administrator|Current Employee,...|Manchester, Engla...|             4|              4.0|           5.0|                4.0|       5.0|          3.0|        4.0|        v|         v|      v|Lots of progressi...|Lots of internal ...|Pension contribut...|\n",
            "| 15|             AJ-Bell| 2021-01-14|   Customer Services|Former Employee, ...|Salford, North We...|             2|              4.0|           2.0|                2.0|       2.0|          2.0|        1.0|        x|         x|      x|             AJ Hell|everyone is in th...|Under staffed, po...|\n",
            "| 16|             AJ-Bell| 2021-01-25|             Manager|    Current Employee|Manchester, Engla...|             4|              5.0|           5.0|                4.0|       5.0|          4.0|        5.0|        v|         v|      v|Promotion, growin...|AJ Bell is one of...|Pension contribut...|\n",
            "| 17|             AJ-Bell| 2021-01-26| Customer Service...|Former Employee, ...|Salford, North We...|             1|              1.0|           1.0|                4.0|       1.0|          3.0|        1.0|        x|         r|      r| More cons than pros|Pay day drinks, C...|No consideration ...|\n",
            "| 18|             AJ-Bell| 2021-02-04| Operations Admin...|Former Employee, ...|Manchester, Engla...|             1|              5.0|           1.0|                4.0|       3.0|          1.0|        1.0|        x|         x|      x|             AJ Hell|Company drinks, g...|Salary\\nThe salar...|\n",
            "| 19|             AJ-Bell| 2021-02-05|      Administrative|Current Employee,...|Manchester, Engla...|             3|              2.0|           2.0|                2.0|       3.0|          3.0|        3.0|        o|         o|      o|                Okay|Near to home, gre...|Pay is not enough...|\n",
            "+---+--------------------+-----------+--------------------+--------------------+--------------------+--------------+-----------------+--------------+-------------------+----------+-------------+-----------+---------+----------+-------+--------------------+--------------------+--------------------+\n",
            "only showing top 20 rows\n",
            "\n"
          ]
        }
      ]
    },
    {
      "cell_type": "markdown",
      "source": [
        "Transform DataFrame to fit review_rating table"
      ],
      "metadata": {
        "id": "glufRc967zbk"
      }
    },
    {
      "cell_type": "code",
      "source": [
        "headline_df = df.select([\"headline\", \"overall_rating\", \"date_review\"])\n",
        "headline_df.show()"
      ],
      "metadata": {
        "colab": {
          "base_uri": "https://localhost:8080/"
        },
        "id": "0gtd69W-7y78",
        "outputId": "b1f343f0-c2b5-4dd6-c11c-82ed3426aa9b"
      },
      "execution_count": 4,
      "outputs": [
        {
          "output_type": "stream",
          "name": "stdout",
          "text": [
            "+--------------------+--------------+-----------+\n",
            "|            headline|overall_rating|date_review|\n",
            "+--------------------+--------------+-----------+\n",
            "|The people both m...|             2| 2020-10-01|\n",
            "|   Very low salaries|             1| 2021-02-05|\n",
            "|                Good|             4| 2021-02-07|\n",
            "|          AFH Review|             3| 2021-02-07|\n",
            "|Terrible- avoid l...|             1| 2021-05-12|\n",
            "|         Steer clear|             1| 2021-05-13|\n",
            "|    Mortgage Advisor|             5| 2021-05-13|\n",
            "|         Nice office|             3| 2020-10-14|\n",
            "|Good job, awful p...|             3| 2020-11-25|\n",
            "|Shiny Office Cann...|             1| 2020-12-04|\n",
            "|Low pay, progress...|             1| 2020-12-08|\n",
            "| Great place to work|             4| 2020-12-11|\n",
            "|               Run!!|             2| 2020-12-21|\n",
            "|Looked after but ...|             4| 2021-01-05|\n",
            "|Lots of progressi...|             4| 2021-01-09|\n",
            "|             AJ Hell|             2| 2021-01-14|\n",
            "|Promotion, growin...|             4| 2021-01-25|\n",
            "| More cons than pros|             1| 2021-01-26|\n",
            "|             AJ Hell|             1| 2021-02-04|\n",
            "|                Okay|             3| 2021-02-05|\n",
            "+--------------------+--------------+-----------+\n",
            "only showing top 20 rows\n",
            "\n"
          ]
        }
      ]
    },
    {
      "cell_type": "code",
      "source": [
        "from pyspark.sql.functions import regexp_extract, length\n",
        "headline_df = df.withColumnRenamed(\"overall_rating\", \"label\").select([\"label\", \"date_review\", \"headline\"])\n",
        "headline_df = headline_df.withColumn('headline_length', length(headline_df['headline'])).dropna()\n",
        "headline_df.cache()\n",
        "headline_df.show()"
      ],
      "metadata": {
        "colab": {
          "base_uri": "https://localhost:8080/"
        },
        "id": "EbUWHiJL7u9p",
        "outputId": "17be3d01-c232-417a-9c52-748e737f5107"
      },
      "execution_count": 5,
      "outputs": [
        {
          "output_type": "stream",
          "name": "stdout",
          "text": [
            "+-----+-----------+--------------------+---------------+\n",
            "|label|date_review|            headline|headline_length|\n",
            "+-----+-----------+--------------------+---------------+\n",
            "|    2| 2020-10-01|The people both m...|             43|\n",
            "|    1| 2021-02-05|   Very low salaries|             17|\n",
            "|    4| 2021-02-07|                Good|              4|\n",
            "|    3| 2021-02-07|          AFH Review|             10|\n",
            "|    1| 2021-05-12|Terrible- avoid l...|             31|\n",
            "|    1| 2021-05-13|         Steer clear|             11|\n",
            "|    5| 2021-05-13|    Mortgage Advisor|             16|\n",
            "|    3| 2020-10-14|         Nice office|             11|\n",
            "|    3| 2020-11-25|Good job, awful p...|             22|\n",
            "|    1| 2020-12-04|Shiny Office Cann...|             39|\n",
            "|    1| 2020-12-08|Low pay, progress...|             41|\n",
            "|    4| 2020-12-11| Great place to work|             19|\n",
            "|    2| 2020-12-21|               Run!!|              5|\n",
            "|    4| 2021-01-05|Looked after but ...|             26|\n",
            "|    4| 2021-01-09|Lots of progressi...|             52|\n",
            "|    2| 2021-01-14|             AJ Hell|              7|\n",
            "|    4| 2021-01-25|Promotion, growin...|             53|\n",
            "|    1| 2021-01-26| More cons than pros|             19|\n",
            "|    1| 2021-02-04|             AJ Hell|              7|\n",
            "|    3| 2021-02-05|                Okay|              4|\n",
            "+-----+-----------+--------------------+---------------+\n",
            "only showing top 20 rows\n",
            "\n"
          ]
        }
      ]
    },
    {
      "cell_type": "markdown",
      "source": [
        "Create Data Pipeline"
      ],
      "metadata": {
        "id": "eRn_r6ioMzOP"
      }
    },
    {
      "cell_type": "code",
      "source": [
        "from pyspark.ml.feature import Tokenizer, StopWordsRemover, HashingTF, IDF\n",
        "# Create all the features to the data set\n",
        "tokenizer = Tokenizer(inputCol=\"headline\", outputCol=\"token_text\")\n",
        "stopremove = StopWordsRemover(inputCol='token_text',outputCol='stop_tokens')\n",
        "hashingTF = HashingTF(inputCol=\"token_text\", outputCol='hash_token')\n",
        "idf = IDF(inputCol='hash_token', outputCol='idf_token')"
      ],
      "metadata": {
        "id": "0Xogtj0eM1Jx"
      },
      "execution_count": 6,
      "outputs": []
    },
    {
      "cell_type": "code",
      "source": [
        "from pyspark.ml.feature import VectorAssembler\n",
        "from pyspark.ml.linalg import Vector\n",
        "\n",
        "# Create feature vectors (merge idf_token and review_length)\n",
        "clean_up = VectorAssembler(inputCols=['idf_token', 'headline_length'], outputCol='features')"
      ],
      "metadata": {
        "id": "Kl9cWNnrNJRF"
      },
      "execution_count": 7,
      "outputs": []
    },
    {
      "cell_type": "code",
      "source": [
        "# Create and run a data processing Pipeline\n",
        "from pyspark.ml import Pipeline\n",
        "data_prep_pipeline = Pipeline(stages=[tokenizer, stopremove, hashingTF, idf, clean_up])"
      ],
      "metadata": {
        "id": "1ZgFTHUDNUZ0"
      },
      "execution_count": 8,
      "outputs": []
    },
    {
      "cell_type": "markdown",
      "source": [
        "Transform DataFrame"
      ],
      "metadata": {
        "id": "DNm0Erj6NdqJ"
      }
    },
    {
      "cell_type": "code",
      "source": [
        "# Fit and transform the pipeline\n",
        "cleaner = data_prep_pipeline.fit(headline_df)\n",
        "cleaned = cleaner.transform(headline_df)"
      ],
      "metadata": {
        "id": "Sq9MSa1ONfbd"
      },
      "execution_count": 9,
      "outputs": []
    },
    {
      "cell_type": "code",
      "source": [
        "# Show label of ham spam and resulting features\n",
        "cleaned.select(['label', 'features']).show()"
      ],
      "metadata": {
        "colab": {
          "base_uri": "https://localhost:8080/"
        },
        "id": "zjTmcdeINxbl",
        "outputId": "b44d8e4a-7803-47de-ee6a-9d0189c37059"
      },
      "execution_count": 10,
      "outputs": [
        {
          "output_type": "stream",
          "name": "stdout",
          "text": [
            "+-----+--------------------+\n",
            "|label|            features|\n",
            "+-----+--------------------+\n",
            "|    2|(262145,[70998,89...|\n",
            "|    1|(262145,[210040,2...|\n",
            "|    4|(262145,[113432,2...|\n",
            "|    3|(262145,[109993,1...|\n",
            "|    1|(262145,[84796,95...|\n",
            "|    1|(262145,[94617,17...|\n",
            "|    5|(262145,[82063,16...|\n",
            "|    3|(262145,[22346,13...|\n",
            "|    3|(262145,[7400,850...|\n",
            "|    1|(262145,[15539,44...|\n",
            "|    1|(262145,[67416,94...|\n",
            "|    4|(262145,[27576,34...|\n",
            "|    2|(262145,[97287,26...|\n",
            "|    4|(262145,[9420,333...|\n",
            "|    4|(262145,[17893,20...|\n",
            "|    2|(262145,[249457,2...|\n",
            "|    4|(262145,[34149,11...|\n",
            "|    1|(262145,[121091,1...|\n",
            "|    1|(262145,[249457,2...|\n",
            "|    3|(262145,[261610,2...|\n",
            "+-----+--------------------+\n",
            "only showing top 20 rows\n",
            "\n"
          ]
        }
      ]
    },
    {
      "cell_type": "code",
      "source": [
        "cleaned.printSchema()"
      ],
      "metadata": {
        "colab": {
          "base_uri": "https://localhost:8080/"
        },
        "id": "l6CxE5FwPQ7U",
        "outputId": "201aad43-194e-4195-ef5c-4e8fc7e93703"
      },
      "execution_count": 11,
      "outputs": [
        {
          "output_type": "stream",
          "name": "stdout",
          "text": [
            "root\n",
            " |-- label: string (nullable = true)\n",
            " |-- date_review: string (nullable = true)\n",
            " |-- headline: string (nullable = true)\n",
            " |-- headline_length: integer (nullable = true)\n",
            " |-- token_text: array (nullable = true)\n",
            " |    |-- element: string (containsNull = true)\n",
            " |-- stop_tokens: array (nullable = true)\n",
            " |    |-- element: string (containsNull = true)\n",
            " |-- hash_token: vector (nullable = true)\n",
            " |-- idf_token: vector (nullable = true)\n",
            " |-- features: vector (nullable = true)\n",
            "\n"
          ]
        }
      ]
    },
    {
      "cell_type": "code",
      "source": [
        "from pyspark.sql.functions import col\n",
        "cleaned = cleaned.withColumn(\"label\", col(\"label\").cast(\"int\"))"
      ],
      "metadata": {
        "id": "oZJ9B_UyQVIt"
      },
      "execution_count": 12,
      "outputs": []
    },
    {
      "cell_type": "markdown",
      "source": [
        "Run NaiveBayes"
      ],
      "metadata": {
        "id": "yX_4MVxWN5pD"
      }
    },
    {
      "cell_type": "code",
      "source": [
        "from pyspark.ml.classification import NaiveBayes\n",
        "# Break data down into a training set and a testing set\n",
        "training, testing = cleaned.randomSplit([0.7, 0.3])\n",
        "\n",
        "# Create a Naive Bayes model and fit training data\n",
        "nb = NaiveBayes() #labelCol='label', featuresCol='features'\n",
        "predictor = nb.fit(training)"
      ],
      "metadata": {
        "id": "cWJ_Wa6UN7Ux"
      },
      "execution_count": 13,
      "outputs": []
    },
    {
      "cell_type": "code",
      "source": [
        "training.show()"
      ],
      "metadata": {
        "colab": {
          "base_uri": "https://localhost:8080/"
        },
        "id": "dZuAIBe3Q5Vp",
        "outputId": "8aca14b3-9d19-4c20-8f59-3f323eb4c134"
      },
      "execution_count": 14,
      "outputs": [
        {
          "output_type": "stream",
          "name": "stdout",
          "text": [
            "+-----+-----------+--------------------+---------------+--------------------+--------------------+--------------------+--------------------+--------------------+\n",
            "|label|date_review|            headline|headline_length|          token_text|         stop_tokens|          hash_token|           idf_token|            features|\n",
            "+-----+-----------+--------------------+---------------+--------------------+--------------------+--------------------+--------------------+--------------------+\n",
            "|    1| 2020-09-12|Just a Name. Cont...|             68|[just, a, name., ...|[name., contains,...|(262144,[629,5078...|(262144,[629,5078...|(262145,[629,5078...|\n",
            "|    1| 2020-09-14|Aucun respect du ...|             43|[aucun, respect, ...|[aucun, respect, ...|(262144,[37481,49...|(262144,[37481,49...|(262145,[37481,49...|\n",
            "|    1| 2020-09-14|Bad culture, good...|             25|[bad, culture,, g...|[bad, culture,, g...|(262144,[52879,94...|(262144,[52879,94...|(262145,[52879,94...|\n",
            "|    1| 2020-09-14|Good company to w...|             24|[good, company, t...|[good, company, w...|(262144,[27576,34...|(262144,[27576,34...|(262145,[27576,34...|\n",
            "|    1| 2020-09-14|                 KMS|              3|               [kms]|               [kms]|(262144,[137557],...|(262144,[137557],...|(262145,[137557,2...|\n",
            "|    1| 2020-09-14|          McDonald’s|             10|        [mcdonald’s]|        [mcdonald’s]|(262144,[224802],...|(262144,[224802],...|(262145,[224802,2...|\n",
            "|    1| 2020-09-15|This is for the i...|             28|[this, is, for, t...|           [interns]|(262144,[95889,97...|(262144,[95889,97...|(262145,[95889,97...|\n",
            "|    1| 2020-09-16|     Deloitte review|             15|  [deloitte, review]|  [deloitte, review]|(262144,[57082,17...|(262144,[57082,17...|(262145,[57082,17...|\n",
            "|    1| 2020-09-16|Incredibly Toxic ...|             24|[incredibly, toxi...|[incredibly, toxi...|(262144,[160893,2...|(262144,[160893,2...|(262145,[160893,2...|\n",
            "|    1| 2020-09-16|    McDonalds review|             16| [mcdonalds, review]| [mcdonalds, review]|(262144,[172164,1...|(262144,[172164,1...|(262145,[172164,1...|\n",
            "|    1| 2020-09-16|Terrible employme...|             26|[terrible, employ...|[terrible, employ...|(262144,[26301,12...|(262144,[26301,12...|(262145,[26301,12...|\n",
            "|    1| 2020-09-16|not the best plac...|             29|[not, the, best, ...| [best, place, work]|(262144,[27576,34...|(262144,[27576,34...|(262145,[27576,34...|\n",
            "|    1| 2020-09-16|poor management v...|             35|[poor, management...|[poor, management...|(262144,[50617,85...|(262144,[50617,85...|(262145,[50617,85...|\n",
            "|    1| 2020-09-17|         Don't do it|             11|     [don't, do, it]|                  []|(262144,[7221,309...|(262144,[7221,309...|(262145,[7221,309...|\n",
            "|    1| 2020-09-18|Company is very g...|             54|[company, is, ver...|[company, good, w...|(262144,[33917,34...|(262144,[33917,34...|(262145,[33917,34...|\n",
            "|    1| 2020-09-18|          Contractor|             10|        [contractor]|        [contractor]|(262144,[126972],...|(262144,[126972],...|(262145,[126972,2...|\n",
            "|    1| 2020-09-18|Great company but...|             37|[great, company, ...|[great, company, ...|(262144,[33917,50...|(262144,[33917,50...|(262145,[33917,50...|\n",
            "|    1| 2020-09-18|       Pros and cons|             13|   [pros, and, cons]|        [pros, cons]|(262144,[121091,1...|(262144,[121091,1...|(262145,[121091,1...|\n",
            "|    1| 2020-09-18|take orders, meet...|             39|[take, orders,, m...|[take, orders,, m...|(262144,[11949,55...|(262144,[11949,55...|(262145,[11949,55...|\n",
            "|    1| 2020-09-19|             Alright|              7|           [alright]|           [alright]|(262144,[171118],...|(262144,[171118],...|(262145,[171118,2...|\n",
            "+-----+-----------+--------------------+---------------+--------------------+--------------------+--------------------+--------------------+--------------------+\n",
            "only showing top 20 rows\n",
            "\n"
          ]
        }
      ]
    },
    {
      "cell_type": "code",
      "source": [
        "# Tranform the model with the testing data\n",
        "test_results = predictor.transform(testing)\n",
        "test_results.show(5)"
      ],
      "metadata": {
        "colab": {
          "base_uri": "https://localhost:8080/"
        },
        "id": "kkxwCl0iRBtH",
        "outputId": "5941dd7b-56d9-43ff-de19-55902e519ec0"
      },
      "execution_count": 15,
      "outputs": [
        {
          "output_type": "stream",
          "name": "stdout",
          "text": [
            "+-----+-----------+--------------------+---------------+--------------------+--------------------+--------------------+--------------------+--------------------+--------------------+--------------------+----------+\n",
            "|label|date_review|            headline|headline_length|          token_text|         stop_tokens|          hash_token|           idf_token|            features|       rawPrediction|         probability|prediction|\n",
            "+-----+-----------+--------------------+---------------+--------------------+--------------------+--------------------+--------------------+--------------------+--------------------+--------------------+----------+\n",
            "|    1| 2020-09-12| Abusive environment|             19|[abusive, environ...|[abusive, environ...|(262144,[24900,23...|(262144,[24900,23...|(262145,[24900,23...|[-161.43159411310...|[8.80106895293720...|       2.0|\n",
            "|    1| 2020-09-13|           Worst Job|              9|        [worst, job]|        [worst, job]|(262144,[99197,14...|(262144,[99197,14...|(262145,[99197,14...|[-73.002411323880...|[0.99448367334853...|       0.0|\n",
            "|    1| 2020-09-15|Long working hour...|             58|[long, working, h...|[long, working, h...|(262144,[11275,34...|(262144,[11275,34...|(262145,[11275,34...|[-576.04704051301...|[1.17598724066323...|       1.0|\n",
            "|    1| 2020-09-17|One word - TOXIC !!!|             20|[one, word, -, to...|[one, word, -, to...|(262144,[21823,24...|(262144,[21823,24...|(262145,[21823,24...|[-352.32077301466...|[0.99999999999998...|       0.0|\n",
            "|    1| 2020-09-19|                 BAD|              3|               [bad]|               [bad]|(262144,[145380],...|(262144,[145380],...|(262145,[145380,2...|[-33.864395593379...|[0.04176099256584...|       2.0|\n",
            "+-----+-----------+--------------------+---------------+--------------------+--------------------+--------------------+--------------------+--------------------+--------------------+--------------------+----------+\n",
            "only showing top 5 rows\n",
            "\n"
          ]
        }
      ]
    },
    {
      "cell_type": "markdown",
      "source": [
        "Predict accuracy of the model"
      ],
      "metadata": {
        "id": "p1_ASmd-ROIY"
      }
    },
    {
      "cell_type": "code",
      "source": [
        "# Use the Class Evaluator for a cleaner description\n",
        "from pyspark.ml.evaluation import MulticlassClassificationEvaluator\n",
        "\n",
        "acc_eval = MulticlassClassificationEvaluator()\n",
        "acc = acc_eval.evaluate(test_results)\n",
        "print(\"Accuracy of model at predicting headline_reviews was: %f\" % acc)"
      ],
      "metadata": {
        "colab": {
          "base_uri": "https://localhost:8080/"
        },
        "id": "jDPkxcUYRF6T",
        "outputId": "bd1c8ee7-6166-40ad-9227-ac3a35977255"
      },
      "execution_count": 16,
      "outputs": [
        {
          "output_type": "stream",
          "name": "stdout",
          "text": [
            "Accuracy of model at predicting headline_reviews was: 0.201556\n"
          ]
        }
      ]
    }
  ]
}