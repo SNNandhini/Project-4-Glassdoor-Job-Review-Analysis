{
  "nbformat": 4,
  "nbformat_minor": 0,
  "metadata": {
    "colab": {
      "provenance": []
    },
    "kernelspec": {
      "name": "python3",
      "display_name": "Python 3"
    },
    "language_info": {
      "name": "python"
    }
  },
  "cells": [
    {
      "cell_type": "code",
      "execution_count": 1,
      "metadata": {
        "colab": {
          "base_uri": "https://localhost:8080/"
        },
        "id": "Go_eXkaQNMdV",
        "outputId": "f9402a76-0f8d-4de1-8e38-8dc405f4d6bd"
      },
      "outputs": [
        {
          "output_type": "stream",
          "name": "stdout",
          "text": [
            "Hit:1 https://cloud.r-project.org/bin/linux/ubuntu focal-cran40/ InRelease\n",
            "Hit:2 http://archive.ubuntu.com/ubuntu focal InRelease\n",
            "Get:3 http://security.ubuntu.com/ubuntu focal-security InRelease [114 kB]\n",
            "Hit:4 http://ppa.launchpad.net/c2d4u.team/c2d4u4.0+/ubuntu focal InRelease\n",
            "Ign:5 https://developer.download.nvidia.com/compute/machine-learning/repos/ubuntu2004/x86_64  InRelease\n",
            "Hit:6 https://developer.download.nvidia.com/compute/cuda/repos/ubuntu2004/x86_64  InRelease\n",
            "Hit:7 https://developer.download.nvidia.com/compute/machine-learning/repos/ubuntu2004/x86_64  Release\n",
            "Get:8 http://archive.ubuntu.com/ubuntu focal-updates InRelease [114 kB]\n",
            "Hit:9 http://ppa.launchpad.net/cran/libgit2/ubuntu focal InRelease\n",
            "Hit:11 http://ppa.launchpad.net/deadsnakes/ppa/ubuntu focal InRelease\n",
            "Get:12 http://archive.ubuntu.com/ubuntu focal-backports InRelease [108 kB]\n",
            "Hit:13 http://ppa.launchpad.net/graphics-drivers/ppa/ubuntu focal InRelease\n",
            "Get:14 http://archive.ubuntu.com/ubuntu focal-updates/universe amd64 Packages [1,297 kB]\n",
            "Hit:15 http://ppa.launchpad.net/ubuntugis/ppa/ubuntu focal InRelease\n",
            "Get:16 http://archive.ubuntu.com/ubuntu focal-updates/main amd64 Packages [2,970 kB]\n",
            "Fetched 4,602 kB in 4s (1,312 kB/s)\n",
            "Reading package lists... Done\n"
          ]
        }
      ],
      "source": [
        "import os\n",
        "# Find the latest version of spark 3.0  from http://www.apache.org/dist/spark/ and enter as the spark version\n",
        "# For example:\n",
        "spark_version = 'spark-3.2.3'\n",
        "# spark_version = 'spark-<enter version>'\n",
        "os.environ['SPARK_VERSION']=spark_version\n",
        "\n",
        "# Install Spark and Java\n",
        "!apt-get update\n",
        "!apt-get install openjdk-8-jdk-headless -qq > /dev/null\n",
        "!wget -q http://www.apache.org/dist/spark/$SPARK_VERSION/$SPARK_VERSION-bin-hadoop2.7.tgz\n",
        "!tar xf $SPARK_VERSION-bin-hadoop2.7.tgz\n",
        "!pip install -q findspark\n",
        "\n",
        "# Set Environment Variables\n",
        "os.environ[\"JAVA_HOME\"] = \"/usr/lib/jvm/java-8-openjdk-amd64\"\n",
        "os.environ[\"SPARK_HOME\"] = f\"/content/{spark_version}-bin-hadoop2.7\"\n",
        "\n",
        "# Start a SparkSession\n",
        "import findspark\n",
        "findspark.init()"
      ]
    },
    {
      "cell_type": "code",
      "source": [
        "from pyspark.sql import SparkSession\n",
        "spark = SparkSession.builder.appName(\"NLPCons\").getOrCreate()"
      ],
      "metadata": {
        "id": "X7eYep1pOCl3"
      },
      "execution_count": 2,
      "outputs": []
    },
    {
      "cell_type": "code",
      "source": [
        "from pyspark import SparkFiles\n",
        "# Load in data into a DataFrame\n",
        "\n",
        "url = \"/content/reviews_nlp_input.csv\" #enter correct address here\n",
        "\n",
        "spark.sparkContext.addFile(url)\n",
        "\n",
        "df = spark.read \\\n",
        "    .option(\"delimiter\", \"|\") \\\n",
        "    .option(\"multiline\", \"true\") \\\n",
        "    .option(\"quote\", \"\\\"\") \\\n",
        "    .option(\"escape\", \"\\\"\") \\\n",
        "    .option(\"header\", \"true\") \\\n",
        "    .csv(url)\n",
        "\n",
        "# Show DataFrame\n",
        "df.show()"
      ],
      "metadata": {
        "colab": {
          "base_uri": "https://localhost:8080/"
        },
        "id": "CjtTU5AXUD_X",
        "outputId": "fadfb069-08df-4bd1-827c-2fd02163fd15"
      },
      "execution_count": 3,
      "outputs": [
        {
          "output_type": "stream",
          "name": "stdout",
          "text": [
            "+---+--------------------+-----------+--------------------+--------------------+--------------------+--------------+-----------------+--------------+-------------------+----------+-------------+-----------+---------+----------+-------+--------------------+--------------------+--------------------+\n",
            "|_c0|                firm|date_review|           job_title|             current|            location|overall_rating|work_life_balance|culture_values|diversity_inclusion|career_opp|comp_benefits|senior_mgmt|recommend|ceo_approv|outlook|            headline|                pros|                cons|\n",
            "+---+--------------------+-----------+--------------------+--------------------+--------------------+--------------+-----------------+--------------+-------------------+----------+-------------+-----------+---------+----------+-------+--------------------+--------------------+--------------------+\n",
            "|  0|AFH-Wealth-Manage...| 2020-10-01| Office Administr...|Former Employee, ...|Bromsgrove, Engla...|             2|              1.0|           3.0|                1.0|       1.0|          2.0|        2.0|        x|         o|      x|The people both m...|Great people in s...|Poor pay, huge ga...|\n",
            "|  1|AFH-Wealth-Manage...| 2021-02-05|     Quality Control|     Former Employee|Birmingham, Engla...|             1|              3.0|           1.0|                2.0|       1.0|          1.0|        1.0|        x|         o|      o|   Very low salaries|Majority of the p...|Salaries are much...|\n",
            "|  2|AFH-Wealth-Manage...| 2021-02-07|   IFA Administrator|Former Employee, ...|Bromsgrove, Engla...|             4|              3.0|           3.0|                4.0|       4.0|          4.0|        2.0|        v|         o|      v|                Good|Nice environment,...|Management can be...|\n",
            "|  3|AFH-Wealth-Manage...| 2021-02-07| Investment Opera...|Former Employee, ...|Birmingham, Engla...|             3|              5.0|           5.0|                4.0|       3.0|          1.0|        2.0|        x|         o|      v|          AFH Review|-Great People\\n-H...|-Low Salary\\n-Mid...|\n",
            "|  4|AFH-Wealth-Manage...| 2021-05-12| Client Engagemen...|Former Employee, ...|Birmingham, Engla...|             1|              1.0|           2.0|                1.0|       1.0|          1.0|        1.0|        x|         x|      x|Terrible- avoid l...|None, they lie ab...|-Unachievable bon...|\n",
            "|  5|AFH-Wealth-Manage...| 2021-05-13| Administrative A...|Former Employee, ...|Worcester, Englan...|             1|              1.0|           1.0|                1.0|       1.0|          1.0|        1.0|        x|         o|      r|         Steer clear|There are none to...|Borderline bullyi...|\n",
            "|  6|AFH-Wealth-Manage...| 2021-05-13| Mortgage and Pro...|Former Employee, ...|Taunton, England,...|             5|              5.0|           5.0|                5.0|       5.0|          4.0|        5.0|        o|         o|      o|    Mortgage Advisor|Good company to w...|Communication bet...|\n",
            "|  7|             AJ-Bell| 2020-10-14|     Admininistrator|Former Employee, ...|Manchester, Engla...|             3|              3.0|           3.0|                3.0|       4.0|          3.0|        3.0|        v|         v|      v|         Nice office|good company to w...|started to become...|\n",
            "|  8|             AJ-Bell| 2020-11-25|   YouInvest Advisor|Former Employee, ...|Salford, North We...|             3|              4.0|           1.0|                1.0|       1.0|          5.0|        3.0|        x|         v|      v|Good job, awful p...|AJ Bell is an exc...|It’s like a schoo...|\n",
            "|  9|             AJ-Bell| 2020-12-04|         Team Leader|Former Employee, ...|Manchester, Engla...|             1|              3.0|           1.0|                1.0|       2.0|          2.0|        1.0|        x|         r|      r|Shiny Office Cann...|If you're happy t...|First the minor p...|\n",
            "| 10|             AJ-Bell| 2020-12-08| Administrative A...|     Former Employee|Manchester, Engla...|             1|              3.0|           3.0|                4.0|       1.0|          2.0|        1.0|        x|         r|      r|Low pay, progress...|Nice offices and ...|Awful cronyism in...|\n",
            "| 11|             AJ-Bell| 2020-12-11|    Business Analyst|Current Employee,...|Manchester, Engla...|             4|              5.0|           5.0|                5.0|       5.0|          3.0|        5.0|        v|         v|      v| Great place to work|Great people and ...|Pension contribut...|\n",
            "| 12|             AJ-Bell| 2020-12-21|             Analyst|Former Employee, ...|London, England, ...|             2|              3.0|           2.0|                1.0|       3.0|          2.0|        1.0|        x|         v|      o|               Run!!|Great momentum af...|Poor salary, no f...|\n",
            "| 13|             AJ-Bell| 2021-01-05|      Credit Control|    Current Employee|Manchester, Engla...|             4|              5.0|           5.0|                5.0|       4.0|          5.0|        4.0|        v|         v|      v|Looked after but ...|Great employee be...|Feel like one of ...|\n",
            "| 14|             AJ-Bell| 2021-01-09|    CS Administrator|Current Employee,...|Manchester, Engla...|             4|              4.0|           5.0|                4.0|       5.0|          3.0|        4.0|        v|         v|      v|Lots of progressi...|Lots of internal ...|Pension contribut...|\n",
            "| 15|             AJ-Bell| 2021-01-14|   Customer Services|Former Employee, ...|Salford, North We...|             2|              4.0|           2.0|                2.0|       2.0|          2.0|        1.0|        x|         x|      x|             AJ Hell|everyone is in th...|Under staffed, po...|\n",
            "| 16|             AJ-Bell| 2021-01-25|             Manager|    Current Employee|Manchester, Engla...|             4|              5.0|           5.0|                4.0|       5.0|          4.0|        5.0|        v|         v|      v|Promotion, growin...|AJ Bell is one of...|Pension contribut...|\n",
            "| 17|             AJ-Bell| 2021-01-26| Customer Service...|Former Employee, ...|Salford, North We...|             1|              1.0|           1.0|                4.0|       1.0|          3.0|        1.0|        x|         r|      r| More cons than pros|Pay day drinks, C...|No consideration ...|\n",
            "| 18|             AJ-Bell| 2021-02-04| Operations Admin...|Former Employee, ...|Manchester, Engla...|             1|              5.0|           1.0|                4.0|       3.0|          1.0|        1.0|        x|         x|      x|             AJ Hell|Company drinks, g...|Salary\\nThe salar...|\n",
            "| 19|             AJ-Bell| 2021-02-05|      Administrative|Current Employee,...|Manchester, Engla...|             3|              2.0|           2.0|                2.0|       3.0|          3.0|        3.0|        o|         o|      o|                Okay|Near to home, gre...|Pay is not enough...|\n",
            "+---+--------------------+-----------+--------------------+--------------------+--------------------+--------------+-----------------+--------------+-------------------+----------+-------------+-----------+---------+----------+-------+--------------------+--------------------+--------------------+\n",
            "only showing top 20 rows\n",
            "\n"
          ]
        }
      ]
    },
    {
      "cell_type": "markdown",
      "source": [
        "Transform DataFrame to fit review_rating table"
      ],
      "metadata": {
        "id": "glufRc967zbk"
      }
    },
    {
      "cell_type": "code",
      "source": [
        "cons_df = df.select([\"cons\", \"overall_rating\", \"date_review\"])\n",
        "cons_df.show()"
      ],
      "metadata": {
        "colab": {
          "base_uri": "https://localhost:8080/"
        },
        "id": "0gtd69W-7y78",
        "outputId": "a5d11bd8-1987-4b99-b8b0-0507e78c540e"
      },
      "execution_count": 4,
      "outputs": [
        {
          "output_type": "stream",
          "name": "stdout",
          "text": [
            "+--------------------+--------------+-----------+\n",
            "|                cons|overall_rating|date_review|\n",
            "+--------------------+--------------+-----------+\n",
            "|Poor pay, huge ga...|             2| 2020-10-01|\n",
            "|Salaries are much...|             1| 2021-02-05|\n",
            "|Management can be...|             4| 2021-02-07|\n",
            "|-Low Salary\\n-Mid...|             3| 2021-02-07|\n",
            "|-Unachievable bon...|             1| 2021-05-12|\n",
            "|Borderline bullyi...|             1| 2021-05-13|\n",
            "|Communication bet...|             5| 2021-05-13|\n",
            "|started to become...|             3| 2020-10-14|\n",
            "|It’s like a schoo...|             3| 2020-11-25|\n",
            "|First the minor p...|             1| 2020-12-04|\n",
            "|Awful cronyism in...|             1| 2020-12-08|\n",
            "|Pension contribut...|             4| 2020-12-11|\n",
            "|Poor salary, no f...|             2| 2020-12-21|\n",
            "|Feel like one of ...|             4| 2021-01-05|\n",
            "|Pension contribut...|             4| 2021-01-09|\n",
            "|Under staffed, po...|             2| 2021-01-14|\n",
            "|Pension contribut...|             4| 2021-01-25|\n",
            "|No consideration ...|             1| 2021-01-26|\n",
            "|Salary\\nThe salar...|             1| 2021-02-04|\n",
            "|Pay is not enough...|             3| 2021-02-05|\n",
            "+--------------------+--------------+-----------+\n",
            "only showing top 20 rows\n",
            "\n"
          ]
        }
      ]
    },
    {
      "cell_type": "code",
      "source": [
        "from pyspark.sql.functions import regexp_extract, length\n",
        "cons_df = df.withColumnRenamed(\"overall_rating\", \"label\").select([\"label\", \"date_review\", \"cons\"])\n",
        "cons_df = cons_df.withColumn('cons_length', length(cons_df['cons'])).dropna()\n",
        "cons_df.cache()\n",
        "cons_df.show()"
      ],
      "metadata": {
        "colab": {
          "base_uri": "https://localhost:8080/"
        },
        "id": "EbUWHiJL7u9p",
        "outputId": "1c99a123-bbd0-4cb3-dffd-22e9cc021fda"
      },
      "execution_count": 5,
      "outputs": [
        {
          "output_type": "stream",
          "name": "stdout",
          "text": [
            "+-----+-----------+--------------------+-----------+\n",
            "|label|date_review|                cons|cons_length|\n",
            "+-----+-----------+--------------------+-----------+\n",
            "|    2| 2020-10-01|Poor pay, huge ga...|        151|\n",
            "|    1| 2021-02-05|Salaries are much...|        406|\n",
            "|    4| 2021-02-07|Management can be...|         33|\n",
            "|    3| 2021-02-07|-Low Salary\\n-Mid...|        104|\n",
            "|    1| 2021-05-12|-Unachievable bon...|        522|\n",
            "|    1| 2021-05-13|Borderline bullyi...|         55|\n",
            "|    5| 2021-05-13|Communication bet...|         44|\n",
            "|    3| 2020-10-14|started to become...|         36|\n",
            "|    3| 2020-11-25|It’s like a schoo...|        167|\n",
            "|    1| 2020-12-04|First the minor p...|       1244|\n",
            "|    1| 2020-12-08|Awful cronyism in...|        120|\n",
            "|    4| 2020-12-11|Pension contribut...|         99|\n",
            "|    2| 2020-12-21|Poor salary, no f...|         43|\n",
            "|    4| 2021-01-05|Feel like one of ...|         43|\n",
            "|    4| 2021-01-09|Pension contribut...|        152|\n",
            "|    2| 2021-01-14|Under staffed, po...|         78|\n",
            "|    4| 2021-01-25|Pension contribut...|        105|\n",
            "|    1| 2021-01-26|No consideration ...|        202|\n",
            "|    1| 2021-02-04|Salary\\nThe salar...|       1853|\n",
            "|    3| 2021-02-05|Pay is not enough...|         32|\n",
            "+-----+-----------+--------------------+-----------+\n",
            "only showing top 20 rows\n",
            "\n"
          ]
        }
      ]
    },
    {
      "cell_type": "markdown",
      "source": [
        "Create Data Pipeline"
      ],
      "metadata": {
        "id": "eRn_r6ioMzOP"
      }
    },
    {
      "cell_type": "code",
      "source": [
        "from pyspark.ml.feature import Tokenizer, StopWordsRemover, HashingTF, IDF\n",
        "# Create all the features to the data set\n",
        "tokenizer = Tokenizer(inputCol=\"cons\", outputCol=\"token_text\")\n",
        "stopremove = StopWordsRemover(inputCol='token_text',outputCol='stop_tokens')\n",
        "hashingTF = HashingTF(inputCol=\"token_text\", outputCol='hash_token')\n",
        "idf = IDF(inputCol='hash_token', outputCol='idf_token')"
      ],
      "metadata": {
        "id": "0Xogtj0eM1Jx"
      },
      "execution_count": 6,
      "outputs": []
    },
    {
      "cell_type": "code",
      "source": [
        "from pyspark.ml.feature import VectorAssembler\n",
        "from pyspark.ml.linalg import Vector\n",
        "\n",
        "# Create feature vectors (merge idf_token and review_length)\n",
        "clean_up = VectorAssembler(inputCols=['idf_token', 'cons_length'], outputCol='features')"
      ],
      "metadata": {
        "id": "Kl9cWNnrNJRF"
      },
      "execution_count": 7,
      "outputs": []
    },
    {
      "cell_type": "code",
      "source": [
        "# Create and run a data processing Pipeline\n",
        "from pyspark.ml import Pipeline\n",
        "data_prep_pipeline = Pipeline(stages=[tokenizer, stopremove, hashingTF, idf, clean_up])"
      ],
      "metadata": {
        "id": "1ZgFTHUDNUZ0"
      },
      "execution_count": 8,
      "outputs": []
    },
    {
      "cell_type": "markdown",
      "source": [
        "Transform DataFrame"
      ],
      "metadata": {
        "id": "DNm0Erj6NdqJ"
      }
    },
    {
      "cell_type": "code",
      "source": [
        "# Fit and transform the pipeline\n",
        "cleaner = data_prep_pipeline.fit(cons_df)\n",
        "cleaned = cleaner.transform(cons_df)"
      ],
      "metadata": {
        "id": "Sq9MSa1ONfbd"
      },
      "execution_count": 9,
      "outputs": []
    },
    {
      "cell_type": "code",
      "source": [
        "# Show label of ham spam and resulting features\n",
        "cleaned.select(['label', 'features']).show()"
      ],
      "metadata": {
        "colab": {
          "base_uri": "https://localhost:8080/"
        },
        "id": "zjTmcdeINxbl",
        "outputId": "54bb6d07-b3b1-426d-f3db-ad17fa880ca6"
      },
      "execution_count": 10,
      "outputs": [
        {
          "output_type": "stream",
          "name": "stdout",
          "text": [
            "+-----+--------------------+\n",
            "|label|            features|\n",
            "+-----+--------------------+\n",
            "|    2|(262145,[2120,218...|\n",
            "|    1|(262145,[8145,912...|\n",
            "|    4|(262145,[50617,10...|\n",
            "|    3|(262145,[27576,42...|\n",
            "|    1|(262145,[3672,113...|\n",
            "|    1|(262145,[3112,386...|\n",
            "|    5|(262145,[29440,10...|\n",
            "|    3|(262145,[21570,27...|\n",
            "|    3|(262145,[8804,610...|\n",
            "|    1|(262145,[154,619,...|\n",
            "|    1|(262145,[8804,122...|\n",
            "|    4|(262145,[154,6555...|\n",
            "|    2|(262145,[27576,71...|\n",
            "|    4|(262145,[16487,21...|\n",
            "|    4|(262145,[2325,655...|\n",
            "|    2|(262145,[15494,90...|\n",
            "|    4|(262145,[6555,339...|\n",
            "|    1|(262145,[7400,153...|\n",
            "|    1|(262145,[619,1546...|\n",
            "|    3|(262145,[5923,343...|\n",
            "+-----+--------------------+\n",
            "only showing top 20 rows\n",
            "\n"
          ]
        }
      ]
    },
    {
      "cell_type": "code",
      "source": [
        "cleaned.printSchema()"
      ],
      "metadata": {
        "colab": {
          "base_uri": "https://localhost:8080/"
        },
        "id": "l6CxE5FwPQ7U",
        "outputId": "8a137f47-8f6b-4db5-c4a1-86423c6e6f52"
      },
      "execution_count": 11,
      "outputs": [
        {
          "output_type": "stream",
          "name": "stdout",
          "text": [
            "root\n",
            " |-- label: string (nullable = true)\n",
            " |-- date_review: string (nullable = true)\n",
            " |-- cons: string (nullable = true)\n",
            " |-- cons_length: integer (nullable = true)\n",
            " |-- token_text: array (nullable = true)\n",
            " |    |-- element: string (containsNull = true)\n",
            " |-- stop_tokens: array (nullable = true)\n",
            " |    |-- element: string (containsNull = true)\n",
            " |-- hash_token: vector (nullable = true)\n",
            " |-- idf_token: vector (nullable = true)\n",
            " |-- features: vector (nullable = true)\n",
            "\n"
          ]
        }
      ]
    },
    {
      "cell_type": "code",
      "source": [
        "from pyspark.sql.functions import col\n",
        "cleaned = cleaned.withColumn(\"label\", col(\"label\").cast(\"int\"))"
      ],
      "metadata": {
        "id": "oZJ9B_UyQVIt"
      },
      "execution_count": 12,
      "outputs": []
    },
    {
      "cell_type": "markdown",
      "source": [
        "Run NaiveBayes"
      ],
      "metadata": {
        "id": "yX_4MVxWN5pD"
      }
    },
    {
      "cell_type": "code",
      "source": [
        "from pyspark.ml.classification import NaiveBayes\n",
        "# Break data down into a training set and a testing set\n",
        "training, testing = cleaned.randomSplit([0.7, 0.3])\n",
        "\n",
        "# Create a Naive Bayes model and fit training data\n",
        "nb = NaiveBayes() #labelCol='label', featuresCol='features'\n",
        "predictor = nb.fit(training)"
      ],
      "metadata": {
        "id": "cWJ_Wa6UN7Ux"
      },
      "execution_count": 13,
      "outputs": []
    },
    {
      "cell_type": "code",
      "source": [
        "training.show()"
      ],
      "metadata": {
        "colab": {
          "base_uri": "https://localhost:8080/"
        },
        "id": "dZuAIBe3Q5Vp",
        "outputId": "00db7fd3-da07-47e9-ba4d-231f6eaeb555"
      },
      "execution_count": 14,
      "outputs": [
        {
          "output_type": "stream",
          "name": "stdout",
          "text": [
            "+-----+-----------+--------------------+-----------+--------------------+--------------------+--------------------+--------------------+--------------------+\n",
            "|label|date_review|                cons|cons_length|          token_text|         stop_tokens|          hash_token|           idf_token|            features|\n",
            "+-----+-----------+--------------------+-----------+--------------------+--------------------+--------------------+--------------------+--------------------+\n",
            "|    1| 2020-09-13| Had to pay for food|         19|[had, to, pay, fo...|         [pay, food]|(262144,[27576,10...|(262144,[27576,10...|(262145,[27576,10...|\n",
            "|    1| 2020-09-14|Franchise de la S...|        488|[franchise, de, l...|[franchise, de, l...|(262144,[22959,23...|(262144,[22959,23...|(262145,[22959,23...|\n",
            "|    1| 2020-09-14|Long hours, no wo...|         64|[long, hours,, no...|[long, hours,, wo...|(262144,[53814,87...|(262144,[53814,87...|(262145,[53814,87...|\n",
            "|    1| 2020-09-14|You become the ps...|         34|[you, become, the...|[become, psychiat...|(262144,[11712,21...|(262144,[11712,21...|(262145,[11712,21...|\n",
            "|    1| 2020-09-14|bad culture, larg...|         55|[bad, culture,, l...|[bad, culture,, l...|(262144,[629,2757...|(262144,[629,2757...|(262145,[629,2757...|\n",
            "|    1| 2020-09-15|Great well and go...|         34|[great, well, and...|[great, well, goo...|(262144,[113299,1...|(262144,[113299,1...|(262145,[113299,1...|\n",
            "|    1| 2020-09-15|Long working hour...|        307|[long, working, h...|[long, working, h...|(262144,[2015,455...|(262144,[2015,455...|(262145,[2015,455...|\n",
            "|    1| 2020-09-16|1. The culture at...|        941|[1., the, culture...|[1., culture, del...|(262144,[5381,651...|(262144,[5381,651...|(262145,[5381,651...|\n",
            "|    1| 2020-09-16|No Work-life bala...|         64|[no, work-life, b...|[work-life, balan...|(262144,[27576,48...|(262144,[27576,48...|(262145,[27576,48...|\n",
            "|    1| 2020-09-16|Poor management p...|        107|[poor, management...|[poor, management...|(262144,[13130,23...|(262144,[13130,23...|(262145,[13130,23...|\n",
            "|    1| 2020-09-16|Unprofessional ma...|         57|[unprofessional, ...|[unprofessional, ...|(262144,[50617,77...|(262144,[50617,77...|(262145,[50617,77...|\n",
            "|    1| 2020-09-16|flipping burgers ...|         29|[flipping, burger...|[flipping, burger...|(262144,[42404,12...|(262144,[42404,12...|(262145,[42404,12...|\n",
            "|    1| 2020-09-17|-Insane hours for...|        746|[-insane, hours, ...|[-insane, hours, ...|(262144,[12531,16...|(262144,[12531,16...|(262145,[12531,16...|\n",
            "|    1| 2020-09-17|No work home bala...|         57|[no, work, home, ...|[work, home, bala...|(262144,[17893,34...|(262144,[17893,34...|(262145,[17893,34...|\n",
            "|    1| 2020-09-18|Didn't consider s...|         59|[didn't, consider...|[consider, staff,...|(262144,[16989,33...|(262144,[16989,33...|(262145,[16989,33...|\n",
            "|    1| 2020-09-18|No promotions bec...|         53|[no, promotions, ...|[promotions, mana...|(262144,[25599,52...|(262144,[25599,52...|(262145,[25599,52...|\n",
            "|    1| 2020-09-18|The reason why yo...|        575|[the, reason, why...|[reason, hired, w...|(262144,[3968,110...|(262144,[3968,110...|(262145,[3968,110...|\n",
            "|    1| 2020-09-18|the struggle is r...|         25|[the, struggle, i...|    [struggle, real]|(262144,[6355,958...|(262144,[6355,958...|(262145,[6355,958...|\n",
            "|    1| 2020-09-19|BUSY, BORING, LOW...|         34|[busy,, boring,, ...|[busy,, boring,, ...|(262144,[125502,1...|(262144,[125502,1...|(262145,[125502,1...|\n",
            "|    1| 2020-09-19|Bad management th...|         39|[bad, management,...|[bad, management,...|(262144,[48448,50...|(262144,[48448,50...|(262145,[48448,50...|\n",
            "+-----+-----------+--------------------+-----------+--------------------+--------------------+--------------------+--------------------+--------------------+\n",
            "only showing top 20 rows\n",
            "\n"
          ]
        }
      ]
    },
    {
      "cell_type": "code",
      "source": [
        "# Tranform the model with the testing data\n",
        "test_results = predictor.transform(testing)\n",
        "test_results.show(5)"
      ],
      "metadata": {
        "colab": {
          "base_uri": "https://localhost:8080/"
        },
        "id": "kkxwCl0iRBtH",
        "outputId": "6f51513a-7734-4acd-c535-1c76251372dd"
      },
      "execution_count": 15,
      "outputs": [
        {
          "output_type": "stream",
          "name": "stdout",
          "text": [
            "+-----+-----------+--------------------+-----------+--------------------+--------------------+--------------------+--------------------+--------------------+--------------------+--------------------+----------+\n",
            "|label|date_review|                cons|cons_length|          token_text|         stop_tokens|          hash_token|           idf_token|            features|       rawPrediction|         probability|prediction|\n",
            "+-----+-----------+--------------------+-----------+--------------------+--------------------+--------------------+--------------------+--------------------+--------------------+--------------------+----------+\n",
            "|    1| 2020-09-12|Abusive work envi...|        454|[abusive, work, e...|[abusive, work, e...|(262144,[1455,169...|(262144,[1455,169...|(262145,[1455,169...|[-3635.5319674551...|[1.0,5.7617850082...|       0.0|\n",
            "|    1| 2020-09-12|All else is a con...|        431|[all, else, is, a...|[else, con., lot,...|(262144,[629,5923...|(262144,[629,5923...|(262145,[629,5923...|[-3442.7614621758...|[0.99982985572211...|       0.0|\n",
            "|    1| 2020-09-14|Rude staff, rude ...|         55|[rude, staff,, ru...|[rude, staff,, ru...|(262144,[56734,89...|(262144,[56734,89...|(262145,[56734,89...|[-434.07928979961...|[3.77522160074886...|       2.0|\n",
            "|    1| 2020-09-16|Hectic, unclean w...|         38|[hectic,, unclean...|[hectic,, unclean...|(262144,[131166,1...|(262144,[131166,1...|(262145,[131166,1...|[-485.80649661915...|[0.99999999998658...|       0.0|\n",
            "|    1| 2020-09-18|extreme micromana...|        166|[extreme, microma...|[extreme, microma...|(262144,[27576,31...|(262144,[27576,31...|(262145,[27576,31...|[-1344.4915594889...|[5.02085298723653...|       2.0|\n",
            "+-----+-----------+--------------------+-----------+--------------------+--------------------+--------------------+--------------------+--------------------+--------------------+--------------------+----------+\n",
            "only showing top 5 rows\n",
            "\n"
          ]
        }
      ]
    },
    {
      "cell_type": "markdown",
      "source": [
        "Predict accuracy of the model"
      ],
      "metadata": {
        "id": "p1_ASmd-ROIY"
      }
    },
    {
      "cell_type": "code",
      "source": [
        "# Use the Class Evaluator for a cleaner description\n",
        "from pyspark.ml.evaluation import MulticlassClassificationEvaluator\n",
        "\n",
        "acc_eval = MulticlassClassificationEvaluator()\n",
        "acc = acc_eval.evaluate(test_results)\n",
        "print(\"Accuracy of model at predicting cons was: %f\" % acc)"
      ],
      "metadata": {
        "colab": {
          "base_uri": "https://localhost:8080/"
        },
        "id": "jDPkxcUYRF6T",
        "outputId": "0ef1ebe7-12c0-4b9a-cdba-618c7b8c8cb4"
      },
      "execution_count": 16,
      "outputs": [
        {
          "output_type": "stream",
          "name": "stdout",
          "text": [
            "Accuracy of model at predicting cons was: 0.166016\n"
          ]
        }
      ]
    }
  ]
}